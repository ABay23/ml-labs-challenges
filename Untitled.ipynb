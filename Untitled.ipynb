{
 "cells": [
  {
   "cell_type": "markdown",
   "id": "eb782ddd-1d6e-4314-8c9b-296dd25445a1",
   "metadata": {},
   "source": [
    "Vectorization NumPy"
   ]
  },
  {
   "cell_type": "code",
   "execution_count": 2,
   "id": "9750ed12-40ab-421e-9355-6381f05bd5b7",
   "metadata": {},
   "outputs": [],
   "source": [
    "import numpy as np\n",
    "import time"
   ]
  },
  {
   "cell_type": "markdown",
   "id": "7afc733f-0186-486b-9a6a-48dbbc1bef4d",
   "metadata": {},
   "source": [
    "Vector Creation"
   ]
  },
  {
   "cell_type": "code",
   "execution_count": 3,
   "id": "ed3c8f02-33d2-4e2d-abd3-6f78301ae9e6",
   "metadata": {},
   "outputs": [
    {
     "name": "stdout",
     "output_type": "stream",
     "text": [
      "np.zeros(4) : a = [0. 0. 0. 0.], a shape = (4,), a data type = float64\n",
      "np.zeros(4,) : a = [0. 0. 0. 0.], a shape = (4,), a data type = float64\n",
      "np.random.random_sample(4) : a = [0.28501631 0.48437139 0.65423692 0.25644664], a shape = (4,), a data type = float64\n"
     ]
    }
   ],
   "source": [
    "# NumPy Routines memory allocation\n",
    "a = np.zeros(4);                 print(f'np.zeros(4) : a = {a}, a shape = {a.shape}, a data type = {a.dtype}')\n",
    "a = np.zeros((4),);              print(f'np.zeros(4,) : a = {a}, a shape = {a.shape}, a data type = {a.dtype}')\n",
    "a = np.random.random_sample(4);  print(f'np.random.random_sample(4) : a = {a}, a shape = {a.shape}, a data type = {a.dtype}')"
   ]
  },
  {
   "cell_type": "code",
   "execution_count": 4,
   "id": "7952a848-d5b7-4095-8e6c-2ae654779a7b",
   "metadata": {},
   "outputs": [
    {
     "name": "stdout",
     "output_type": "stream",
     "text": [
      "np.arange(4.):     a = [0. 1. 2. 3.], a shape = (4,), a data type = float64\n",
      "np.random.rand(4): a = [0.8729223  0.62796897 0.33754318 0.8901044 ], a shape = (4,), a data type = float64\n"
     ]
    }
   ],
   "source": [
    "# NumPy routines which allocate memory and fill arrays with value but do not accept shape as input argument\n",
    "a = np.arange(4.);              print(f\"np.arange(4.):     a = {a}, a shape = {a.shape}, a data type = {a.dtype}\")\n",
    "a = np.random.rand(4);          print(f\"np.random.rand(4): a = {a}, a shape = {a.shape}, a data type = {a.dtype}\")"
   ]
  },
  {
   "cell_type": "code",
   "execution_count": 5,
   "id": "139076c2-d426-4492-8211-b246c9af010a",
   "metadata": {},
   "outputs": [
    {
     "name": "stdout",
     "output_type": "stream",
     "text": [
      "np.array([5,4,3,2]):  a = [5 4 3 2],     a shape = (4,), a data type = int64\n",
      "np.array([5.,4,3,2]): a = [5. 4. 3. 2.], a shape = (4,), a data type = float64\n"
     ]
    }
   ],
   "source": [
    "# NumPy routines which allocate memory and fill with user specified values\n",
    "a = np.array([5,4,3,2]);  print(f\"np.array([5,4,3,2]):  a = {a},     a shape = {a.shape}, a data type = {a.dtype}\")\n",
    "a = np.array([5.,4,3,2]); print(f\"np.array([5.,4,3,2]): a = {a}, a shape = {a.shape}, a data type = {a.dtype}\")"
   ]
  },
  {
   "cell_type": "markdown",
   "id": "75650398-558d-4ee1-9e50-528f5ef9af16",
   "metadata": {},
   "source": [
    "Operations on Vectors"
   ]
  },
  {
   "cell_type": "code",
   "execution_count": 6,
   "id": "260e74cf-1a6d-441e-9642-ad3c577f35a9",
   "metadata": {},
   "outputs": [
    {
     "name": "stdout",
     "output_type": "stream",
     "text": [
      "[0 1 2 3 4 5 6 7 8 9]\n",
      "a[2].shape: () a[2] =  2, Accessing an element returns a scalar\n",
      "a[-1] = 9\n",
      "The error message you'll see is:\n",
      "index 10 is out of bounds for axis 0 with size 10\n"
     ]
    }
   ],
   "source": [
    "# Vector Indexing ops on 1-D vectors\n",
    "a = np.arange(10)\n",
    "print(a)\n",
    "\n",
    "# access an element\n",
    "print(f'a[2].shape: {a[2].shape} a[2] =  {a[2]}, Accessing an element returns a scalar')\n",
    "\n",
    "#  acess the last element, negative indexes count from the end \n",
    "print(f'a[-1] = {a[-1]}')\n",
    "\n",
    "#indexs must be within the range of the vector or they will produce and error\n",
    "try:\n",
    "    c = a[10]\n",
    "except Exception as e:\n",
    "    print(\"The error message you'll see is:\")\n",
    "    print(e)"
   ]
  }
 ],
 "metadata": {
  "kernelspec": {
   "display_name": "Python 3 (ipykernel)",
   "language": "python",
   "name": "python3"
  },
  "language_info": {
   "codemirror_mode": {
    "name": "ipython",
    "version": 3
   },
   "file_extension": ".py",
   "mimetype": "text/x-python",
   "name": "python",
   "nbconvert_exporter": "python",
   "pygments_lexer": "ipython3",
   "version": "3.12.0"
  }
 },
 "nbformat": 4,
 "nbformat_minor": 5
}
