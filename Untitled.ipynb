{
 "cells": [
  {
   "cell_type": "markdown",
   "id": "eb782ddd-1d6e-4314-8c9b-296dd25445a1",
   "metadata": {},
   "source": [
    "Vectorization NumPy"
   ]
  },
  {
   "cell_type": "code",
   "execution_count": 2,
   "id": "9750ed12-40ab-421e-9355-6381f05bd5b7",
   "metadata": {},
   "outputs": [],
   "source": [
    "import numpy as np\n",
    "import time"
   ]
  },
  {
   "cell_type": "markdown",
   "id": "7afc733f-0186-486b-9a6a-48dbbc1bef4d",
   "metadata": {},
   "source": [
    "Vector Creation"
   ]
  },
  {
   "cell_type": "code",
   "execution_count": null,
   "id": "ed3c8f02-33d2-4e2d-abd3-6f78301ae9e6",
   "metadata": {},
   "outputs": [],
   "source": [
    "# NumPy Routines memory allocation\n",
    "a = np.zeros(4);                 print(f'np.zeros(4) : a = {a}, a shape = {a.shape}, a data type = {a.dtype}')\n",
    "a = np.zeros((4),);              print(f'np.zeros(4,) : a = {a}, a shape = {a.shape}, a data type = {a.dtype}')\n",
    "a = np.random.random_sample(4);  print(f'np.random.random_(4) : a = {a}, a shape = {a.shape}, a data type = {a.dtype}')"
   ]
  }
 ],
 "metadata": {
  "kernelspec": {
   "display_name": "Python 3 (ipykernel)",
   "language": "python",
   "name": "python3"
  },
  "language_info": {
   "codemirror_mode": {
    "name": "ipython",
    "version": 3
   },
   "file_extension": ".py",
   "mimetype": "text/x-python",
   "name": "python",
   "nbconvert_exporter": "python",
   "pygments_lexer": "ipython3",
   "version": "3.12.0"
  }
 },
 "nbformat": 4,
 "nbformat_minor": 5
}
